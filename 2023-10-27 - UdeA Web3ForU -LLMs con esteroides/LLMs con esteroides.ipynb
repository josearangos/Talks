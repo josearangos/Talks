{
 "cells": [
  {
   "cell_type": "code",
   "execution_count": null,
   "id": "0a8503b0",
   "metadata": {},
   "outputs": [],
   "source": [
    "#!pip install langchain"
   ]
  },
  {
   "cell_type": "code",
   "execution_count": null,
   "metadata": {},
   "outputs": [],
   "source": [
    "from langchain.agents import AgentExecutor\n",
    "from langchain.pydantic_v1 import BaseModel"
   ]
  },
  {
   "cell_type": "code",
   "execution_count": null,
   "id": "71cd0501",
   "metadata": {},
   "outputs": [],
   "source": [
    "import os\n",
    "from dotenv import load_dotenv, find_dotenv\n",
    "_ = load_dotenv(find_dotenv()) # read local .env file"
   ]
  },
  {
   "cell_type": "code",
   "execution_count": null,
   "id": "36201ede",
   "metadata": {},
   "outputs": [],
   "source": [
    "#!pip install openai"
   ]
  },
  {
   "cell_type": "code",
   "execution_count": null,
   "id": "7b5cfd3d",
   "metadata": {},
   "outputs": [],
   "source": [
    "#!pip install google-api-python-client google-auth-oauthlib google-auth-httplib2 beautifulsoup4"
   ]
  },
  {
   "cell_type": "code",
   "execution_count": null,
   "id": "f3e25bee",
   "metadata": {},
   "outputs": [],
   "source": [
    "from langchain import OpenAI\n",
    "from langchain.chat_models import ChatOpenAI\n",
    "from langchain.agents import initialize_agent\n",
    "from langchain.sql_database import SQLDatabase\n",
    "from langchain.agents.agent_types import AgentType\n",
    "from langchain.agents.agent_toolkits import SQLDatabaseToolkit\n",
    "from langchain.agents.agent_toolkits import GmailToolkit"
   ]
  },
  {
   "cell_type": "code",
   "execution_count": null,
   "id": "8bb32403",
   "metadata": {},
   "outputs": [],
   "source": [
    "db = SQLDatabase.from_uri(\"sqlite:///resources/users.db\")\n",
    "db_toolkit = SQLDatabaseToolkit(db=db, llm=OpenAI(temperature=0))"
   ]
  },
  {
   "cell_type": "code",
   "execution_count": null,
   "id": "64222733",
   "metadata": {},
   "outputs": [],
   "source": [
    "gmail_toolkit = GmailToolkit()"
   ]
  },
  {
   "cell_type": "markdown",
   "id": "8dd419f9",
   "metadata": {},
   "source": [
    "# Agente SQL + GMAIL"
   ]
  },
  {
   "cell_type": "code",
   "execution_count": null,
   "id": "af217171",
   "metadata": {},
   "outputs": [],
   "source": [
    "llm=ChatOpenAI(temperature=0,model_name=\"gpt-4\")"
   ]
  },
  {
   "cell_type": "code",
   "execution_count": null,
   "id": "bc3c8330",
   "metadata": {},
   "outputs": [],
   "source": [
    "agent = initialize_agent(\n",
    "    llm=llm,\n",
    "    tools=gmail_toolkit.get_tools()+db_toolkit.get_tools(),\n",
    "    verbose=True,\n",
    "    agent=AgentType.STRUCTURED_CHAT_ZERO_SHOT_REACT_DESCRIPTION,\n",
    ")"
   ]
  },
  {
   "cell_type": "code",
   "execution_count": null,
   "metadata": {},
   "outputs": [],
   "source": [
    "agent"
   ]
  },
  {
   "cell_type": "code",
   "execution_count": null,
   "id": "bb40a4be",
   "metadata": {},
   "outputs": [],
   "source": [
    "agent.run('Busca los 2 usuarios que más han comprado y envía el siguiente correo:'\n",
    "          '\\nAsunto: Código de descuento por compras'\n",
    "          '\\nContenido: \"Hola, gracias por tus compras. Tienes un bono de descuento en tu siguiente compra.' \n",
    "          '\\nUtiliza el código: #LLMConEsteroides y obtén un 50% de descuento.\"')"
   ]
  },
  {
   "cell_type": "markdown",
   "metadata": {},
   "source": [
    "### Other\n"
   ]
  },
  {
   "cell_type": "code",
   "execution_count": null,
   "metadata": {},
   "outputs": [],
   "source": [
    "agent = initialize_agent(\n",
    "    llm=llm,\n",
    "    tools=gmail_toolkit.get_tools()+db_toolkit.get_tools(),\n",
    "    verbose=True,\n",
    "    agent=AgentType.STRUCTURED_CHAT_ZERO_SHOT_REACT_DESCRIPTION,\n",
    "    return_intermediate_steps =True\n",
    ")\n"
   ]
  },
  {
   "cell_type": "code",
   "execution_count": null,
   "metadata": {},
   "outputs": [],
   "source": [
    "agent_executor = AgentExecutor(\n",
    "    agent=agent, \n",
    "    max_iterations=5,\n",
    "    tools=gmail_toolkit.get_tools()+db_toolkit.get_tools(),\n",
    "    return_intermediate_steps=True\n",
    ") | (lambda x: x[\"output\"])\n"
   ]
  },
  {
   "cell_type": "code",
   "execution_count": null,
   "metadata": {},
   "outputs": [],
   "source": [
    "\n",
    "class AgentInputs(BaseModel):\n",
    "    query: str\n"
   ]
  },
  {
   "cell_type": "code",
   "execution_count": null,
   "metadata": {},
   "outputs": [],
   "source": [
    "inp  = AgentInputs(query='Busca los 2 usuarios que más han comprado y envía el siguiente correo:'\n",
    "          '\\nAsunto: Código de descuento por compras'\n",
    "          '\\nContenido: \"Hola, gracias por tus compras. Tienes un bono de descuento en tu siguiente compra.' \n",
    "          '\\nUtiliza el código: #LLMConEsteroides y obtén un 50% de descuento.\"')"
   ]
  },
  {
   "cell_type": "code",
   "execution_count": null,
   "metadata": {},
   "outputs": [],
   "source": [
    "#agent_executor = agent_executor.with_types()"
   ]
  },
  {
   "cell_type": "code",
   "execution_count": null,
   "metadata": {},
   "outputs": [],
   "source": [
    "agent_executor.invoke({\"input\":'Busca los 2 usuarios que más han comprado y envía el siguiente correo:'\n",
    "          '\\nAsunto: Código de descuento por compras'\n",
    "          '\\nContenido: \"Hola, gracias por tus compras. Tienes un bono de descuento en tu siguiente compra.' \n",
    "          '\\nUtiliza el código: #LLMConEsteroides y obtén un 50% de descuento.\"'})"
   ]
  }
 ],
 "metadata": {
  "kernelspec": {
   "display_name": "llms_lanchain",
   "language": "python",
   "name": "python3"
  },
  "language_info": {
   "codemirror_mode": {
    "name": "ipython",
    "version": 3
   },
   "file_extension": ".py",
   "mimetype": "text/x-python",
   "name": "python",
   "nbconvert_exporter": "python",
   "pygments_lexer": "ipython3",
   "version": "3.9.18"
  }
 },
 "nbformat": 4,
 "nbformat_minor": 5
}
